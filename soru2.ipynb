{
 "cells": [
  {
   "cell_type": "code",
   "execution_count": 26,
   "id": "53a73e54",
   "metadata": {},
   "outputs": [],
   "source": [
    "def karakter_sayma(metin, buyuk_kucuk=False):\n",
    "    if buyuk_kucuk:\n",
    "        metin = metin.lower()\n",
    "\n",
    "    metin_sayimi = {}  # Sözlük tanımlanıyor\n",
    "\n",
    "    for karakter in metin:  # metin burada fonksiyona verilen parametre\n",
    "        if karakter in metin_sayimi:\n",
    "            metin_sayimi[karakter] += 1\n",
    "        else:\n",
    "            metin_sayimi[karakter] = 1  # Yeni karakter ekleniyor\n",
    "\n",
    "    return metin_sayimi  # Sonuç döndürülüyor"
   ]
  },
  {
   "cell_type": "code",
   "execution_count": null,
   "id": "fa8aeef1",
   "metadata": {},
   "outputs": [
    {
     "name": "stdout",
     "output_type": "stream",
     "text": [
      "{'H': 1, 'e': 1, 'l': 3, 'o': 2, ' ': 2, 'W': 1, 'r': 1, 'd': 1}\n"
     ]
    }
   ],
   "source": [
    "print(karakter_sayma(\"Hello World \"))"
   ]
  }
 ],
 "metadata": {
  "kernelspec": {
   "display_name": "Python 3",
   "language": "python",
   "name": "python3"
  },
  "language_info": {
   "codemirror_mode": {
    "name": "ipython",
    "version": 3
   },
   "file_extension": ".py",
   "mimetype": "text/x-python",
   "name": "python",
   "nbconvert_exporter": "python",
   "pygments_lexer": "ipython3",
   "version": "3.13.3"
  }
 },
 "nbformat": 4,
 "nbformat_minor": 5
}
