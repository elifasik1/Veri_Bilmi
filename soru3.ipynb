{
 "cells": [
  {
   "cell_type": "code",
   "execution_count": null,
   "id": "de0d68cc",
   "metadata": {},
   "outputs": [],
   "source": [
    "def kare_filtresi(liste,esik): # fonksiyonumu belirledim\n",
    "    kare = [sayi ** 2 for sayi in liste if sayi> esik]\n",
    "    return kare"
   ]
  },
  {
   "cell_type": "code",
   "execution_count": null,
   "id": "79c0f27e",
   "metadata": {},
   "outputs": [
    {
     "name": "stdout",
     "output_type": "stream",
     "text": [
      "[16, 25, 36]\n"
     ]
    }
   ],
   "source": [
    "sayilar = [1,2,3,4,5,6] # dizimi yazdım\n",
    "esik_deger = 3 # eşik değer belirledim\n",
    "sonuc = kare_filtresi(sayilar,esik_deger)\n",
    "print(sonuc)"
   ]
  }
 ],
 "metadata": {
  "kernelspec": {
   "display_name": "Python 3",
   "language": "python",
   "name": "python3"
  },
  "language_info": {
   "codemirror_mode": {
    "name": "ipython",
    "version": 3
   },
   "file_extension": ".py",
   "mimetype": "text/x-python",
   "name": "python",
   "nbconvert_exporter": "python",
   "pygments_lexer": "ipython3",
   "version": "3.13.3"
  }
 },
 "nbformat": 4,
 "nbformat_minor": 5
}
